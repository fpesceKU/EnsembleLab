{
  "nbformat": 4,
  "nbformat_minor": 0,
  "metadata": {
    "colab": {
      "provenance": [],
      "authorship_tag": "ABX9TyPrkMJhoUJWsWEZKdkxkIZ/",
      "include_colab_link": true
    },
    "kernelspec": {
      "name": "python3",
      "display_name": "Python 3"
    },
    "language_info": {
      "name": "python"
    },
    "accelerator": "GPU",
    "gpuClass": "standard"
  },
  "cells": [
    {
      "cell_type": "markdown",
      "metadata": {
        "id": "view-in-github",
        "colab_type": "text"
      },
      "source": [
        "<a href=\"https://colab.research.google.com/github/fpesceKU/EnsembleLab/blob/main/EnsembleLab.ipynb\" target=\"_parent\"><img src=\"https://colab.research.google.com/assets/colab-badge.svg\" alt=\"Open In Colab\"/></a>"
      ]
    },
    {
      "cell_type": "markdown",
      "source": [
        "## **Preliminary information:**\n",
        "\n",
        "\n",
        "\n",
        "\n",
        "*   This Colab notebook enables running simulations of intrinsically disordered proteins (IDPs) and to study their conformational ensembles in combination with experimental data.\n",
        "*   Molecular dynamics (MD) simulations employ the coarse-grained force fields CALVADOS2, where each residue is mapped onto a single bead and parametrized with a \"stickiness\" parameter.\n",
        "*   Simulations only require that the user provides the sequence of an IDP and set environmental conditions (temperature, salt concentration, pH).\n",
        "*   If experimental data are available for the IDP, the Bayesian/Maximum-entropy reweighting can be used to refine ensembles to better match the experimental data.\n",
        "*   Multiple structural observables can be calculated from simulations.\n",
        "*   MD simulations run on GPU. To enable GPU select `Runtime` from the menu, then `Change runtime type` and select `GPU`.\n",
        "\n",
        "\n",
        "---\n",
        "\n"
      ],
      "metadata": {
        "id": "MlQDdnEPFu6n"
      }
    },
    {
      "cell_type": "code",
      "source": [
        "#@title <b>Preliminary operations</b>: acquiring softwares\n",
        "%%bash\n",
        "rm -r *\n",
        "\n",
        "wget https://cssb.biology.gatech.edu/skolnick/files/PULCHRA/pulchra304.tgz &> /dev/null\n",
        "tar -zxf pulchra304.tgz &> /dev/null\n",
        "rm pulchra304.tgz\n",
        "mv ./pulchra304/bin/linux/pulchra .\n",
        "chmod +x pulchra\n",
        "rm -r pulchra304/\n",
        "\n",
        "wget https://files.inria.fr/NanoDFiles/Website/Software/Pepsi-SAXS/Linux/3.0/Pepsi-SAXS-Linux.zip &> /dev/null\n",
        "unzip Pepsi-SAXS-Linux.zip &> /dev/null\n",
        "rm Pepsi-SAXS-Linux.zip\n",
        "\n",
        "wget https://raw.githubusercontent.com/fpesceKU/BLOCKING/main/block_tools.py &> /dev/null\n",
        "wget https://raw.githubusercontent.com/fpesceKU/BLOCKING/main/main.py &> /dev/null\n",
        "\n",
        "wget https://raw.githubusercontent.com/KULL-Centre/BME/main/BME_tools.py &> /dev/null\n",
        "wget https://raw.githubusercontent.com/KULL-Centre/BME/main/BME.py &> /dev/null\n",
        "\n",
        "wget https://raw.githubusercontent.com/ehb54/GenApp-BayesApp/main/bin/source/bift.f &> /dev/null\n",
        "gfortran bift.f -march=native -O2 -o bift"
      ],
      "metadata": {
        "cellView": "form",
        "id": "xv1Y9rwEijXK"
      },
      "execution_count": null,
      "outputs": []
    },
    {
      "cell_type": "code",
      "execution_count": null,
      "metadata": {
        "colab": {
          "base_uri": "https://localhost:8080/"
        },
        "cellView": "form",
        "id": "gTryFsr_Zo6B",
        "outputId": "7019c888-eff7-4a21-9486-f270198284b6"
      },
      "outputs": [
        {
          "output_type": "stream",
          "name": "stdout",
          "text": [
            "Looking in indexes: https://pypi.org/simple, https://us-python.pkg.dev/colab-wheels/public/simple/\n",
            "Collecting condacolab\n",
            "  Downloading condacolab-0.1.6-py3-none-any.whl (6.8 kB)\n",
            "Installing collected packages: condacolab\n",
            "Successfully installed condacolab-0.1.6\n",
            "Looking in indexes: https://pypi.org/simple, https://us-python.pkg.dev/colab-wheels/public/simple/\n",
            "Collecting wget\n",
            "  Downloading wget-3.2.zip (10 kB)\n",
            "  Preparing metadata (setup.py) ... \u001b[?25l\u001b[?25hdone\n",
            "Building wheels for collected packages: wget\n",
            "  Building wheel for wget (setup.py) ... \u001b[?25l\u001b[?25hdone\n",
            "  Created wheel for wget: filename=wget-3.2-py3-none-any.whl size=9676 sha256=ace1b7cad37ba4a2e4e7805194f59c7cd44e08ed6abb6571bcb761d517f456d5\n",
            "  Stored in directory: /root/.cache/pip/wheels/04/5f/3e/46cc37c5d698415694d83f607f833f83f0149e49b3af9d0f38\n",
            "Successfully built wget\n",
            "Installing collected packages: wget\n",
            "Successfully installed wget-3.2\n",
            "⏬ Downloading https://github.com/jaimergp/miniforge/releases/latest/download/Mambaforge-colab-Linux-x86_64.sh...\n",
            "📦 Installing...\n",
            "📌 Adjusting configuration...\n",
            "🩹 Patching environment...\n",
            "⏲ Done in 0:00:29\n",
            "🔁 Restarting kernel...\n",
            "Installing libraries...\n"
          ]
        }
      ],
      "source": [
        "#@title <b>Preliminary operations</b>: setting the environment (i)\n",
        "import google.colab\n",
        "! pip install condacolab\n",
        "! pip install wget\n",
        "import condacolab\n",
        "condacolab.install()\n",
        "\n",
        "print('Installing libraries...')\n",
        "! conda install matplotlib pandas mdtraj openmm=7.5 -c conda-forge --yes &> /dev/null"
      ]
    },
    {
      "cell_type": "code",
      "source": [
        "#@title <b>Preliminary operations</b>: setting the environment (ii)\n",
        "import os\n",
        "import shutil\n",
        "import subprocess\n",
        "import wget\n",
        "import numpy as np\n",
        "import pandas as pd\n",
        "import mdtraj as md\n",
        "import matplotlib.pyplot as plt\n",
        "from simtk import openmm, unit\n",
        "from simtk.openmm import app\n",
        "import BME as BME"
      ],
      "metadata": {
        "id": "Q4VTY7SqL3PM",
        "cellView": "form"
      },
      "execution_count": null,
      "outputs": []
    },
    {
      "cell_type": "code",
      "source": [
        "#@title <b><font color='#b22222'>1.1 MD Toolbox</font></b>\n",
        "! wget https://raw.githubusercontent.com/KULL-Centre/CALVADOS/main/residues.csv &> /dev/null\n",
        "\n",
        "residues = pd.read_csv('residues.csv')\n",
        "residues = residues.set_index('one')\n",
        "\n",
        "def genParamsLJ(df,seq):\n",
        "    fasta = seq.copy()\n",
        "    r = df.copy()\n",
        "    r.loc['X'] = r.loc[fasta[0]]\n",
        "    r.loc['Z'] = r.loc[fasta[-1]]\n",
        "    r.loc['X','MW'] += 2\n",
        "    r.loc['Z','MW'] += 16\n",
        "    fasta[0] = 'X'\n",
        "    fasta[-1] = 'Z'\n",
        "    types = list(np.unique(fasta))\n",
        "    lj_eps = 0.2*4.184\n",
        "    lj_sigma = pd.DataFrame((r.sigmas.values+r.sigmas.values.reshape(-1,1))/2,\n",
        "                            index=r.sigmas.index,columns=r.sigmas.index)\n",
        "    lj_lambda = pd.DataFrame((r.lambdas.values+r.lambdas.values.reshape(-1,1))/2,\n",
        "                             index=r.lambdas.index,columns=r.lambdas.index)\n",
        "    return lj_eps, lj_sigma, lj_lambda, fasta, types\n",
        "\n",
        "def genParamsDH(df,seq,temp,pH,ionic):\n",
        "    kT = 8.3145*temp*1e-3\n",
        "    fasta = seq.copy()\n",
        "    r = df.copy()\n",
        "    # Set the charge on HIS based on the pH of the protein solution\n",
        "    r.loc['H','q'] = 1. / ( 1 + 10**(pH-6) )\n",
        "    r.loc['X'] = r.loc[fasta[0]]\n",
        "    r.loc['Z'] = r.loc[fasta[-1]]\n",
        "    fasta[0] = 'X'\n",
        "    fasta[-1] = 'Z'\n",
        "    r.loc['X','q'] = r.loc[seq[0],'q'] + 1.\n",
        "    r.loc['Z','q'] = r.loc[seq[-1],'q'] - 1.\n",
        "    # Calculate the prefactor for the Yukawa potential\n",
        "    fepsw = lambda T : 5321/T+233.76-0.9297*T+0.1417*1e-2*T*T-0.8292*1e-6*T**3\n",
        "    epsw = fepsw(temp)\n",
        "    lB = 1.6021766**2/(4*np.pi*8.854188*epsw)*6.022*1000/kT\n",
        "    yukawa_eps = [r.loc[a].q*np.sqrt(lB*kT) for a in fasta]\n",
        "    # Calculate the inverse of the Debye length\n",
        "    yukawa_kappa = np.sqrt(8*np.pi*lB*ionic*6.022/10)\n",
        "    return yukawa_eps, yukawa_kappa\n",
        "\n",
        "def genDCD(name, eqsteps=1000):\n",
        "    \"\"\" \n",
        "    Generates coordinate and trajectory\n",
        "    in convenient formats\n",
        "    \"\"\"\n",
        "    traj = md.load(\"{:s}/pretraj.dcd\".format(name), top=\"{:s}/top.pdb\".format(name))\n",
        "    traj = traj.image_molecules(inplace=False, anchor_molecules=[set(traj.top.chain(0).atoms)], make_whole=True)\n",
        "    traj.center_coordinates()\n",
        "    traj.xyz += traj.unitcell_lengths[0,0]/2\n",
        "    tocut = eqsteps #10 ns (eq)\n",
        "    traj[int(tocut):].save_dcd(\"{:s}/traj.dcd\".format(name))\n",
        "\n",
        "def simulate(residues,name,seq,temp,pH,ionic,nsteps,stride=1e3,eqsteps=1000):\n",
        "    os.mkdir(name)\n",
        "\n",
        "    lj_eps, _, _, fasta, types= genParamsLJ(residues,seq)\n",
        "    yukawa_eps, yukawa_kappa = genParamsDH(residues,seq,temp,pH,ionic)\n",
        "\n",
        "    N = len(fasta)\n",
        "\n",
        "    L = 200\n",
        "\n",
        "    system = openmm.System()\n",
        "\n",
        "    # set box vectors\n",
        "    a = unit.Quantity(np.zeros([3]), unit.nanometers)\n",
        "    a[0] = L * unit.nanometers\n",
        "    b = unit.Quantity(np.zeros([3]), unit.nanometers)\n",
        "    b[1] = L * unit.nanometers\n",
        "    c = unit.Quantity(np.zeros([3]), unit.nanometers)\n",
        "    c[2] = L * unit.nanometers\n",
        "    system.setDefaultPeriodicBoxVectors(a, b, c)\n",
        "    \n",
        "    top = md.Topology()\n",
        "    pos = []\n",
        "    chain = top.add_chain()\n",
        "    pos.append([[0,0,L/2+(i-N/2.)*.38] for i in range(N)])\n",
        "    for resname in fasta:\n",
        "        residue = top.add_residue(resname, chain)\n",
        "        top.add_atom(resname, element=md.element.carbon, residue=residue)\n",
        "    for i in range(chain.n_atoms-1):\n",
        "        top.add_bond(chain.atom(i),chain.atom(i+1))\n",
        "    md.Trajectory(np.array(pos).reshape(N,3), top, 0, [L,L,L], [90,90,90]).save_pdb('{:s}/top.pdb'.format(name))\n",
        "\n",
        "    pdb = app.pdbfile.PDBFile('{:s}/top.pdb'.format(name))\n",
        "\n",
        "    system.addParticle((residues.loc[seq[0]].MW+2)*unit.amu)\n",
        "    for a in seq[1:-1]:\n",
        "        system.addParticle(residues.loc[a].MW*unit.amu) \n",
        "    system.addParticle((residues.loc[seq[-1]].MW+16)*unit.amu)\n",
        "\n",
        "    hb = openmm.openmm.HarmonicBondForce()\n",
        "    energy_expression = 'select(step(r-2^(1/6)*s),4*eps*l*((s/r)^12-(s/r)^6),4*eps*((s/r)^12-(s/r)^6)+eps*(1-l))'\n",
        "    ah = openmm.openmm.CustomNonbondedForce(energy_expression+'; s=0.5*(s1+s2); l=0.5*(l1+l2)')\n",
        "    yu = openmm.openmm.CustomNonbondedForce('q*(exp(-kappa*r)/r - exp(-kappa*4)/4); q=q1*q2')\n",
        "    yu.addGlobalParameter('kappa',yukawa_kappa/unit.nanometer)\n",
        "    yu.addPerParticleParameter('q')\n",
        "\n",
        "    ah.addGlobalParameter('eps',lj_eps*unit.kilojoules_per_mole)\n",
        "    ah.addPerParticleParameter('s')\n",
        "    ah.addPerParticleParameter('l')\n",
        " \n",
        "    for a,e in zip(seq,yukawa_eps):\n",
        "        yu.addParticle([e*unit.nanometer*unit.kilojoules_per_mole])\n",
        "        ah.addParticle([residues.loc[a].sigmas*unit.nanometer, residues.loc[a].lambdas*unit.dimensionless])\n",
        "\n",
        "    for i in range(N-1):\n",
        "        hb.addBond(i, i+1, 0.38*unit.nanometer, 8033*unit.kilojoules_per_mole/(unit.nanometer**2))\n",
        "        yu.addExclusion(i, i+1)\n",
        "        ah.addExclusion(i, i+1)\n",
        "\n",
        "    yu.setForceGroup(0)\n",
        "    ah.setForceGroup(1)\n",
        "    yu.setNonbondedMethod(openmm.openmm.CustomNonbondedForce.CutoffPeriodic)\n",
        "    ah.setNonbondedMethod(openmm.openmm.CustomNonbondedForce.CutoffPeriodic)\n",
        "    hb.setUsesPeriodicBoundaryConditions(True)\n",
        "    yu.setCutoffDistance(4*unit.nanometer)\n",
        "    ah.setCutoffDistance(2*unit.nanometer)\n",
        " \n",
        "    system.addForce(hb)\n",
        "    system.addForce(yu)\n",
        "    system.addForce(ah)\n",
        "\n",
        "    #serialized_system = XmlSerializer.serialize(system)\n",
        "    #outfile = open('system.xml','w')\n",
        "    #outfile.write(serialized_system)\n",
        "    #outfile.close()\n",
        "\n",
        "    integrator = openmm.openmm.LangevinIntegrator(temp*unit.kelvin,0.01/unit.picosecond,0.010*unit.picosecond) #10 fs timestep\n",
        "\n",
        "    platform = openmm.Platform.getPlatformByName('CUDA')\n",
        "\n",
        "    simulation = app.simulation.Simulation(pdb.topology, system, integrator, platform, dict(CudaPrecision='mixed')) \n",
        "\n",
        "    check_point = '{:s}/restart.chk'.format(name)\n",
        "\n",
        "    if os.path.isfile(check_point):\n",
        "        print('Reading check point file')\n",
        "        simulation.loadCheckpoint(check_point)\n",
        "        simulation.reporters.append(app.dcdreporter.DCDReporter('{:s}/pretraj.dcd'.format(name),int(stride),append=True))\n",
        "    else:\n",
        "        simulation.context.setPositions(pdb.positions)\n",
        "        simulation.minimizeEnergy()\n",
        "        simulation.reporters.append(app.dcdreporter.DCDReporter('{:s}/pretraj.dcd'.format(name),int(stride)))\n",
        "\n",
        "    simulation.reporters.append(app.statedatareporter.StateDataReporter('{:s}/traj.log'.format(name),int(stride),\n",
        "             potentialEnergy=True,temperature=True,step=True,speed=True,elapsedTime=True,separator='\\t'))\n",
        "\n",
        "    simulation.step(nsteps)\n",
        "\n",
        "    simulation.saveCheckpoint(check_point)\n",
        "\n",
        "    genDCD(name,eqsteps)"
      ],
      "metadata": {
        "cellView": "form",
        "id": "1kgtSiOS2goO"
      },
      "execution_count": null,
      "outputs": []
    },
    {
      "cell_type": "code",
      "source": [
        "#@title <b><font color='#b22222'>1.2 Analysis Toolbox</font></b>\n",
        "from main import BlockAnalysis\n",
        "\n",
        "def autoblock(cv, multi=1, plot=False):\n",
        "    block = BlockAnalysis(cv, multi=multi)\n",
        "    block.SEM()\n",
        "\n",
        "    if plot == True:\n",
        "        plt.errorbar(block.stat[...,0], block.stat[...,1], block.stat[...,2], fmt='', color='k', ecolor='0.5')\n",
        "        plt.scatter(block.bs, block.sem,zorder=10,c='tab:red')\n",
        "        plt.xlabel('Block size')\n",
        "        plt.ylabel('SEM')\n",
        "        plt.show()\n",
        "\n",
        "    return block.av, block.sem, block.bs\n",
        "\n",
        "def Rg(name, seq):\n",
        "    t = md.load_dcd('{:s}/traj.dcd'.format(name), top='{:s}/top.pdb'.format(name))\n",
        "    masses = residues.loc[list(seq),'MW'].values\n",
        "    rgarray = md.compute_rg(t,masses=masses)\n",
        "    return rgarray\n",
        "\n",
        "def Dmax(name):\n",
        "    t = md.load_dcd('{:s}/traj.dcd'.format(name), top='{:s}/top.pdb'.format(name))\n",
        "    pairs = t.top.select_pairs('all','all')\n",
        "    d = md.compute_distances(t,pairs)\n",
        "    return np.max(d)\n",
        "\n",
        "def fix_topology(t,seq):\n",
        "    cgtop = md.Topology()\n",
        "    cgchain = cgtop.add_chain()\n",
        "    for res in seq:\n",
        "        cgres = cgtop.add_residue(res, cgchain)\n",
        "        cgtop.add_atom('CA', element=md.element.carbon, residue=cgres)\n",
        "    traj = md.Trajectory(t.xyz, cgtop, t.time, t.unitcell_lengths, t.unitcell_angles)\n",
        "    traj = traj.superpose(traj, frame=0)\n",
        "    return traj"
      ],
      "metadata": {
        "cellView": "form",
        "id": "3qEhQIsO_bNh"
      },
      "execution_count": null,
      "outputs": []
    },
    {
      "cell_type": "code",
      "source": [
        "#@title <b><font color='#b22222'>1.3 BME Toolbox</font></b>\n",
        "def iBME(calc_file,exp_file,THETAS=[1,10,20,50,75,100,200,400,750,1000,5000,10000]):\n",
        "    W = []\n",
        "    STATS = []\n",
        "\n",
        "    for t in THETAS:\n",
        "        print('Reweighting with theta={}'.format(t))\n",
        "        rew = BME.Reweight('ibme_t{}'.format(t))\n",
        "        rew.load(exp_file,calc_file)\n",
        "        rew.ibme(theta=t, iterations=25, ftol=0.001)\n",
        "        \n",
        "        W.append(rew.get_ibme_weights())\n",
        "        STATS.append(rew.get_ibme_stats())\n",
        "        print(STATS[-1])\n",
        "\n",
        "    return STATS, W"
      ],
      "metadata": {
        "cellView": "form",
        "id": "7HAHcAvVZrbH"
      },
      "execution_count": null,
      "outputs": []
    },
    {
      "cell_type": "code",
      "source": [
        "#@title <b><font color='#ffc413'>2. IDP sequence and data</font></b>\n",
        "\n",
        "#@markdown Name the IDP that you want to simulate:\n",
        "NAME = \"Hst5\" #@param {type:\"string\"}\n",
        "\n",
        "#@markdown Insert here the sequence of the IDP that you want to simulate:\n",
        "SEQUENCE = \"DSHAKRHHGYKRKFHEKHHSHRGY\" #@param {type:\"string\"}\n",
        "\n",
        "#@markdown Are experimental data available for this IDP?\n",
        "EXPERIMENT = \"SAXS\" #@param [\"None\", \"SAXS\", \"Rh\"]"
      ],
      "metadata": {
        "cellView": "form",
        "id": "R-copyXP0WTe"
      },
      "execution_count": null,
      "outputs": []
    },
    {
      "cell_type": "code",
      "source": [
        "#@title <b><font color='#ffc413'>3. Launch MD simulation</font></b>\n",
        "#@markdown Settings:\n",
        "Temperature = 298 #@param {type:\"number\"}\n",
        "Ionic_strenght = 0.150 #@param {type:\"number\"}\n",
        "pH = 7.0 #@param {type:\"number\"}\n",
        "Length = 50 #@param {type:\"number\"}\n",
        "#@markdown <i>*Units: Temperature [K], Ionic_strength [M], Length [ns]<i>\n",
        "nsteps = Length*1000/0.01\n",
        "simulate(residues,NAME,list(SEQUENCE),temp=Temperature,pH=pH,ionic=Ionic_strenght,nsteps=nsteps,stride=1e3,eqsteps=100)"
      ],
      "metadata": {
        "cellView": "form",
        "id": "1aBA8eVnDLx8"
      },
      "execution_count": null,
      "outputs": []
    },
    {
      "cell_type": "code",
      "source": [
        "# Calculate Rg, average, SEM, decorrelating block size\n",
        "rgarray = Rg(NAME, SEQUENCE)\n",
        "rgav, err, bs = autoblock(rgarray, plot=True)"
      ],
      "metadata": {
        "colab": {
          "base_uri": "https://localhost:8080/",
          "height": 279
        },
        "id": "KrKj3l6HMFng",
        "outputId": "54796bcc-4563-4e55-a310-8da1259fd882"
      },
      "execution_count": null,
      "outputs": [
        {
          "output_type": "display_data",
          "data": {
            "text/plain": [
              "<Figure size 432x288 with 1 Axes>"
            ],
            "image/png": "[encoded data removed]"
          },
          "metadata": {
            "needs_background": "light"
          }
        }
      ]
    },
    {
      "cell_type": "code",
      "source": [
        "#@title <b><font color='#ffc413'>4.1 Ensemble reweighting with experimental data</b>: getting data ready</font>\n",
        "#@markdown Here you will need to provide a link to the experimental data selected in cell #2.\n",
        "if EXPERIMENT == 'SAXS':\n",
        "    link_to_data = input('Link to your experimental data: ')\n",
        "    saxs_file = wget.download(link_to_data)\n",
        "\n",
        "    #check data\n",
        "    try:\n",
        "        np.loadtxt(saxs_file)\n",
        "    except:\n",
        "        print(\"Unable to read file. Make sure the file only contains 3 columns (q,I,sigma) and #commented lines\")\n",
        "    assert np.shape(np.loadtxt(saxs_file))[1] == 3, \"Expected file with 3 columns (q,I,sigma)\"\n",
        "\n",
        "    #correct experimental errors with BIFT\n",
        "    dmax = Dmax(NAME)\n",
        "    f = open('inputfile.dat','w')\n",
        "    f.write(\"{:s}\\n\\n\\n\\n{}\\n\\n\\n\\n\\n\\n\\n\\n\\n\\n\\n\\n\".format(saxs_file,dmax))\n",
        "    f.close()\n",
        "    subprocess.run('./bift < inputfile.dat'.split())\n",
        "    np.savetxt('{:s}_bift.dat'.format(NAME), np.loadtxt('rescale.dat'), header=' DATA=SAXS')\n",
        "    print('Experimental errors on SAXS intensities have been corrected with BIFT')\n",
        "    print('Factor used for rescaling errors is: {}'.format(np.loadtxt('scale_factor.dat')[0,1]))\n",
        "    print('SAXS data with corrected errors is in {:s}_bift.dat'.format(NAME))\n",
        "\n",
        "    #subsampling, backmapping, SAXS\n",
        "    SEQ3 = [residues.three[x] for x in SEQUENCE]\n",
        "    t_cg = fix_topology(md.load_dcd('{:s}/traj.dcd'.format(NAME), top='{:s}/top.pdb'.format(NAME)), SEQ3)\n",
        "    for i in np.arange(0,len(t_cg),bs):\n",
        "        t_cg[int(i)].save_pdb('frame.pdb')\n",
        "        subprocess.run(['./pulchra', 'frame.pdb'])\n",
        "        pepsi_comm = './Pepsi-SAXS frame.rebuilt.pdb {:s}_bift.dat -o saxs.dat -cst --cstFactor 0 --I0 1.0 --dro 1.0 --r0_min_factor 1.025 --r0_max_factor 1.025 --r0_N 1'.format(NAME)\n",
        "        subprocess.run(pepsi_comm.split())\n",
        "        if i == 0:\n",
        "            calc_saxs = np.loadtxt('saxs.dat')[...,3]\n",
        "        else:\n",
        "            calc_saxs = np.vstack((calc_saxs,np.loadtxt('saxs.dat')[...,3]))\n",
        "    col0 = np.arange(0,len(calc_saxs)).reshape(len(calc_saxs),1)\n",
        "    calc_saxs = np.hstack((col0,calc_saxs))\n",
        "    np.savetxt('calc_saxs.dat', calc_saxs)\n",
        "\n",
        "elif EXPERIMENT == 'None':\n",
        "    print('No experiment specified. Select type of experiment in cell 2.')\n",
        "else:\n",
        "  print('An unknown option is specified.')"
      ],
      "metadata": {
        "colab": {
          "base_uri": "https://localhost:8080/"
        },
        "cellView": "form",
        "id": "3g51Uzfef-83",
        "outputId": "22b10044-185d-4df4-922e-e69b1af033bd"
      },
      "execution_count": null,
      "outputs": [
        {
          "output_type": "stream",
          "name": "stdout",
          "text": [
            "Link to your experimental data: https://raw.githubusercontent.com/KULL-Centre/papers/main/2022/rh-fwd-model-pesce-et-al/SAXS/Hst5.dat\n",
            "Experimental errors on SAXS intensities have been corrected with BIFT\n",
            "Factor used for rescaling errors is: 1.12357831\n",
            "SAXS data with corrected errors is in Hst5_bift.dat\n"
          ]
        }
      ]
    },
    {
      "cell_type": "code",
      "source": [
        "#@title <b><font color='#ffc413'>4.2 Execute reweighting</b></font>\n",
        "iBME('calc_saxs.dat', '{:s}_bift.dat'.format(NAME))"
      ],
      "metadata": {
        "id": "7QVXrITx0Syk",
        "cellView": "form"
      },
      "execution_count": null,
      "outputs": []
    },
    {
      "cell_type": "code",
      "source": [
        "%%bash\n",
        "ls"
      ],
      "metadata": {
        "id": "H-Ipi_6plwUT"
      },
      "execution_count": null,
      "outputs": []
    },
    {
      "cell_type": "markdown",
      "source": [
        "TODO list:\n",
        "- nglview\n",
        "- CG SAXS\n",
        "- students can write their own function to calculate rg?\n",
        "- how does one input exp data?\n",
        "- dmax to bift has to check for consistent units between dmax and q\n",
        "- progress bar for simulation and reweighting\n",
        "- weird pandas import"
      ],
      "metadata": {
        "id": "isp2Z7FZHpQV"
      }
    }
  ]
}