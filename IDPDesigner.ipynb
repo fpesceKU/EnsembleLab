{
  "nbformat": 4,
  "nbformat_minor": 0,
  "metadata": {
    "colab": {
      "provenance": [],
      "authorship_tag": "ABX9TyN4NEQmaAF3X8cSjy671o+/",
      "include_colab_link": true
    },
    "kernelspec": {
      "name": "python3",
      "display_name": "Python 3"
    },
    "language_info": {
      "name": "python"
    }
  },
  "cells": [
    {
      "cell_type": "markdown",
      "metadata": {
        "id": "view-in-github",
        "colab_type": "text"
      },
      "source": [
        "<a href=\"https://colab.research.google.com/github/fpesceKU/EnsembleLab/blob/main/IDPDesigner.ipynb\" target=\"_parent\"><img src=\"https://colab.research.google.com/assets/colab-badge.svg\" alt=\"Open In Colab\"/></a>"
      ]
    },
    {
      "cell_type": "code",
      "source": [
        "#@title <b>Preliminary operations (i)</b>\n",
        "\n",
        "import random\n",
        "import subprocess\n",
        "import os\n",
        "import pandas as pd\n",
        "pd.options.mode.chained_assignment = None\n",
        "import numpy as np\n",
        "import itertools\n",
        "from joblib import dump, load\n",
        "subprocess.run( 'pip install wget localcider==0.1.18'.split() )\n",
        "subprocess.run('pip uninstall scikit-learn -y'.split())\n",
        "subprocess.run('pip install scikit-learn==1.0.2'.split())\n",
        "import wget\n",
        "from localcider.sequenceParameters import SequenceParameters\n",
        "import matplotlib.pyplot as plt\n",
        "from google.colab import files\n",
        "from ipywidgets import IntProgress\n",
        "from IPython.display import display\n",
        "from IPython.display import clear_output\n",
        "\n",
        "url = 'https://github.com/KULL-Centre/_2023_Tesei_IDRome/blob/main'\n",
        "if os.path.exists('svr_model_nu.joblib') == False:\n",
        "  wget.download(url+'/svr_models/svr_model_nu.joblib?raw=true')\n",
        "if os.path.exists('residues.csv') == False:\n",
        "  wget.download(url+'/md_simulations/data/residues.csv?raw=true')\n",
        "\n",
        "def calc_seq_prop(seq,residues,pH=7.):\n",
        "    seq = list(seq).copy()\n",
        "    fasta_kappa = np.array(seq.copy())\n",
        "    N = len(seq)\n",
        "    r = residues.copy()\n",
        "\n",
        "    # calculate properties that do not depend on charges\n",
        "    fK = sum([seq.count(a) for a in ['K']])/N\n",
        "    fR = sum([seq.count(a) for a in ['R']])/N\n",
        "    fE = sum([seq.count(a) for a in ['E']])/N\n",
        "    fD = sum([seq.count(a) for a in ['D']])/N\n",
        "    faro = sum([seq.count(a) for a in ['W','Y','F']])/N\n",
        "    mean_lambda = np.mean(r.loc[seq].lambdas)\n",
        "\n",
        "    pairs = np.array(list(itertools.combinations(seq,2)))\n",
        "    pairs_indices = np.array(list(itertools.combinations(range(N),2)))\n",
        "    # calculate sequence separations\n",
        "    ij_dist = np.diff(pairs_indices,axis=1).flatten().astype(float)\n",
        "    # calculate lambda sums\n",
        "    ll = r.lambdas.loc[pairs[:,0]].values+r.lambdas.loc[pairs[:,1]].values\n",
        "    # calculate SHD\n",
        "    beta = -1\n",
        "    shd = np.sum(ll*np.power(np.abs(ij_dist),beta))/N\n",
        "\n",
        "    # fix charges\n",
        "    r.loc['X'] = r.loc[seq[0]]\n",
        "    r.loc['X','q'] = r.loc[seq[0],'q'] + 1.\n",
        "    seq[0] = 'X'\n",
        "    if r.loc['X','q'] > 0:\n",
        "        fasta_kappa[0] = 'K'\n",
        "    else:\n",
        "        fasta_kappa[0] = 'A'\n",
        "    r.loc['Z'] = r.loc[seq[-1]]\n",
        "    r.loc['Z','q'] = r.loc[seq[-1],'q'] - 1.\n",
        "    seq[-1] = 'Z'\n",
        "    if r.loc['Z','q'] < 0:\n",
        "        fasta_kappa[-1] = 'D'\n",
        "    else:\n",
        "        fasta_kappa[-1] = 'A'\n",
        "    Hc = 1/(1+10**(pH-6))\n",
        "    if Hc < 0.5:\n",
        "        r.loc['H', 'q'] = 0\n",
        "        fasta_kappa[np.where(np.array(seq) == 'H')[0]] = 'A'\n",
        "    elif Hc >= 0.5:\n",
        "        r.loc['H', 'q'] = 1\n",
        "        fasta_kappa[np.where(np.array(seq) == 'H')[0]] = 'K'\n",
        "\n",
        "    # calculate properties that depend on charges\n",
        "    pairs = np.array(list(itertools.combinations(seq,2)))\n",
        "    # calculate charge products\n",
        "    qq = r.q.loc[pairs[:,0]].values*r.q.loc[pairs[:,1]].values\n",
        "    # calculate SCD\n",
        "    scd = np.sum(qq*np.sqrt(ij_dist))/N\n",
        "    SeqOb = SequenceParameters(''.join(fasta_kappa))\n",
        "    kappa = SeqOb.get_kappa()\n",
        "    fcr = r.q.loc[seq].abs().mean()\n",
        "    ncpr = r.q.loc[seq].mean()\n",
        "\n",
        "    return pd.Series(data=[fK,fR,fE,fD,faro,scd,shd,kappa,fcr,mean_lambda,ncpr],\n",
        "                 index=['fK','fR','fE','fD','faro','SCD','SHD','kappa','FCR','mean_lambda','NCPR'])"
      ],
      "metadata": {
        "cellView": "form",
        "id": "Bf79jLltcs7c"
      },
      "execution_count": 270,
      "outputs": []
    },
    {
      "cell_type": "code",
      "execution_count": 242,
      "metadata": {
        "cellView": "form",
        "id": "Km_3JhLeaMej"
      },
      "outputs": [],
      "source": [
        "#@title <b>Preliminary operations (ii)</b>\n",
        "\n",
        "class Sequence:\n",
        "  aa = ['A','C','D','E','F','G','H','I','K','L','M','N','P','Q','R','S','T','V','W','Y']\n",
        "  def __init__(self, start_seq=None, length=None, pH=7.):\n",
        "    assert start_seq is not None or length is not None, \"Either initialize a starting sequence or specify a sequence length so that a random sequence is initialized!\"\n",
        "    self.pH = pH\n",
        "    if start_seq is None and length is not None:\n",
        "      self.sequence = random.choices(self.aa, k=length)\n",
        "    else:\n",
        "      self.sequence = list(start_seq)\n",
        "    self.length = len(self.sequence)\n",
        "\n",
        "  def get_sequence(self):\n",
        "    return ''.join(self.sequence)\n",
        "\n",
        "  def mutate(self, mode):\n",
        "    if mode == 'single_point':\n",
        "      self.sequence[random.randrange(len(self.sequence))] = random.choices(self.aa, k=1)[0]\n",
        "    if mode == 'swap_full':\n",
        "      a, b = random.randrange(len(self.sequence)), random.randrange(len(self.sequence))\n",
        "      self.sequence[b], self.sequence[a] = self.sequence[a], self.sequence[b]\n",
        "    if mode == 'swap_expr':\n",
        "      a, b = random.randrange(1,len(self.sequence)), random.randrange(1,len(self.sequence))\n",
        "      self.sequence[b], self.sequence[a] = self.sequence[a], self.sequence[b]\n",
        "\n",
        "  def get_features(self):\n",
        "    residues = pd.read_csv('residues.csv')\n",
        "    residues = residues.set_index('one')\n",
        "    return calc_seq_prop(self.sequence,residues,self.pH)\n",
        "\n",
        "  def get_nu(self):\n",
        "    model_nu = load('svr_model_nu.joblib')\n",
        "    features_nu = ['SCD','SHD','kappa','FCR','mean_lambda']\n",
        "    return np.around(model_nu.predict(self.get_features().loc[features_nu].values.reshape(1, -1))[0],3)\n",
        "\n",
        "\n",
        "class MCMC(Sequence):\n",
        "  def __init__(self, mutation_mode, nu_target, start_seq=None, length=None, pH=7., c=0.003):\n",
        "    super().__init__(start_seq, length, pH)\n",
        "    self.memory = pd.DataFrame(columns=['fasta','nu','mc'])\n",
        "    self.memory.loc[0] = dict(fasta=self.sequence,\n",
        "                        nu=self.get_nu(),\n",
        "                        mc=True)\n",
        "    self.mode = mutation_mode\n",
        "    self.nu_target = nu_target\n",
        "    self.c = c\n",
        "\n",
        "  def acceptance_ratio(self):\n",
        "    lastmc = self.memory[(self.memory['mc']==True)].index[-1]\n",
        "    L = abs(self.memory.nu[self.memory.index.values[-1]] - self.nu_target) - abs(self.memory.nu[lastmc] - self.nu_target)\n",
        "    return np.exp(L/-self.c)\n",
        "\n",
        "  def step(self):\n",
        "    self.mutate(mode = self.mode)\n",
        "    self.memory.loc[self.memory.index.values[-1]+1] = dict(fasta=self.sequence,nu=self.get_nu(),mc=None)\n",
        "    self.memory.mc[self.memory.index.values[-1]] = self.acceptance_ratio() > random.random()\n",
        "\n",
        "    if self.memory.mc[self.memory.index.values[-1]] == False:\n",
        "      self.sequence = self.memory.fasta[(self.memory['mc']==True)].values[-1]"
      ]
    },
    {
      "cell_type": "code",
      "source": [
        "#@title <b>Input sequence and parameters</b>\n",
        "#@markdown Or paste a sequence and provide a name. This cell can be executed multiple times to register more sequences.\n",
        "SEQUENCE = \"MASASSSQRGRSGSGNFGGGRGGGFGGNDNFGRGGNFSGRGGFGGSRGGGGYGGSGDGYNGFGNDGSNFGGGGSYNDFGNYNNQSSNFGPMKGGNFGGRSSGGSGGGGQYFAKPRNQGGYGGSSSSSSYGSGRRF\" #@param {type:\"string\"}\n",
        "nu_TARGET = 0.5 #@param {type:\"number\"}\n",
        "MUTATION_TYPE = 'swap_full' # @param [\"swap_full\", \"swap_expr\", \"single_point\"]\n",
        "CONTROL_PARAMETER = 0.0015 #@param {type:\"number\"}\n",
        "\n",
        "if \" \" in SEQUENCE:\n",
        "    SEQUENCE = ''.join(SEQUENCE.split())"
      ],
      "metadata": {
        "cellView": "form",
        "id": "tQ7SWMvuR6MN"
      },
      "execution_count": 262,
      "outputs": []
    },
    {
      "cell_type": "code",
      "source": [
        "#@title <b>Evolve</b>\n",
        "STEPS = 10 #@param {type:\"number\"}\n",
        "evo = MCMC(start_seq = SEQUENCE, mutation_mode=MUTATION_TYPE, nu_target=nu_TARGET, c=CONTROL_PARAMETER)\n",
        "for i in range(STEPS):\n",
        "  evo.step()\n",
        "\n",
        "acc_rate = sum(evo.memory.mc.values)/len(evo.memory)\n",
        "print(f'Acceptance rate: {acc_rate}')\n",
        "\n",
        "plt.plot(evo.memory.nu.values)\n",
        "plt.xlabel('MCMC step')\n",
        "plt.ylabel(r'$\\nu$')"
      ],
      "metadata": {
        "cellView": "form",
        "id": "QFAey3Ymt0V-"
      },
      "execution_count": null,
      "outputs": []
    },
    {
      "cell_type": "code",
      "source": [
        "#@title <b>Download results</b>\n",
        "out = open('designs.fasta','w')\n",
        "for i,(nu,fasta) in enumerate(zip(evo.memory.nu.values,evo.memory.fasta.values)):\n",
        "  out.write(f'>seq{i};nu={nu}\\n'+''.join(fasta)+'\\n')\n",
        "out.close()\n",
        "files.download('designs.fasta')"
      ],
      "metadata": {
        "colab": {
          "base_uri": "https://localhost:8080/",
          "height": 17
        },
        "cellView": "form",
        "id": "cY_3LhzbZbsC",
        "outputId": "e8bb4968-4840-42cc-ac0d-dcf56feca33f"
      },
      "execution_count": 279,
      "outputs": [
        {
          "output_type": "display_data",
          "data": {
            "text/plain": [
              "<IPython.core.display.Javascript object>"
            ],
            "application/javascript": [
              "\n",
              "    async function download(id, filename, size) {\n",
              "      if (!google.colab.kernel.accessAllowed) {\n",
              "        return;\n",
              "      }\n",
              "      const div = document.createElement('div');\n",
              "      const label = document.createElement('label');\n",
              "      label.textContent = `Downloading \"${filename}\": `;\n",
              "      div.appendChild(label);\n",
              "      const progress = document.createElement('progress');\n",
              "      progress.max = size;\n",
              "      div.appendChild(progress);\n",
              "      document.body.appendChild(div);\n",
              "\n",
              "      const buffers = [];\n",
              "      let downloaded = 0;\n",
              "\n",
              "      const channel = await google.colab.kernel.comms.open(id);\n",
              "      // Send a message to notify the kernel that we're ready.\n",
              "      channel.send({})\n",
              "\n",
              "      for await (const message of channel.messages) {\n",
              "        // Send a message to notify the kernel that we're ready.\n",
              "        channel.send({})\n",
              "        if (message.buffers) {\n",
              "          for (const buffer of message.buffers) {\n",
              "            buffers.push(buffer);\n",
              "            downloaded += buffer.byteLength;\n",
              "            progress.value = downloaded;\n",
              "          }\n",
              "        }\n",
              "      }\n",
              "      const blob = new Blob(buffers, {type: 'application/binary'});\n",
              "      const a = document.createElement('a');\n",
              "      a.href = window.URL.createObjectURL(blob);\n",
              "      a.download = filename;\n",
              "      div.appendChild(a);\n",
              "      a.click();\n",
              "      div.remove();\n",
              "    }\n",
              "  "
            ]
          },
          "metadata": {}
        },
        {
          "output_type": "display_data",
          "data": {
            "text/plain": [
              "<IPython.core.display.Javascript object>"
            ],
            "application/javascript": [
              "download(\"download_f4dfbd41-df77-4886-a318-c4872884a96f\", \"designs.fasta\", 460736)"
            ]
          },
          "metadata": {}
        }
      ]
    }
  ]
}