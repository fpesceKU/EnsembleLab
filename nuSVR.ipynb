{
  "nbformat": 4,
  "nbformat_minor": 0,
  "metadata": {
    "colab": {
      "provenance": [],
      "authorship_tag": "ABX9TyOR5qpXf2kpSSiXKFfEhfgc",
      "include_colab_link": true
    },
    "kernelspec": {
      "name": "python3",
      "display_name": "Python 3"
    },
    "language_info": {
      "name": "python"
    }
  },
  "cells": [
    {
      "cell_type": "markdown",
      "metadata": {
        "id": "view-in-github",
        "colab_type": "text"
      },
      "source": [
        "<a href=\"https://colab.research.google.com/github/fpesceKU/EnsembleLab/blob/main/nuSVR.ipynb\" target=\"_parent\"><img src=\"https://colab.research.google.com/assets/colab-badge.svg\" alt=\"Open In Colab\"/></a>"
      ]
    },
    {
      "cell_type": "code",
      "execution_count": 1,
      "metadata": {
        "id": "fGNr_8e1Ocv_",
        "cellView": "form"
      },
      "outputs": [],
      "source": [
        "#@title <b>Preliminary operations</b>\n",
        "import subprocess\n",
        "subprocess.run( 'pip install wget localcider==0.1.18'.split() )\n",
        "subprocess.run('pip uninstall scikit-learn -y'.split())\n",
        "subprocess.run('pip install scikit-learn==1.0.2'.split())\n",
        "import numpy as np\n",
        "import itertools\n",
        "from localcider.sequenceParameters import SequenceParameters\n",
        "import wget\n",
        "import sys\n",
        "import os\n",
        "from joblib import dump, load\n",
        "import pandas as pd\n",
        "from google.colab import files\n",
        "\n",
        "def calc_seq_prop(seq,residues,Nc,Cc,Hc):\n",
        "    seq = list(seq).copy()\n",
        "    fasta_kappa = np.array(seq.copy())\n",
        "    N = len(seq)\n",
        "    r = residues.copy()\n",
        "\n",
        "    # calculate properties that do not depend on charges\n",
        "    fK = sum([seq.count(a) for a in ['K']])/N\n",
        "    fR = sum([seq.count(a) for a in ['R']])/N\n",
        "    fE = sum([seq.count(a) for a in ['E']])/N\n",
        "    fD = sum([seq.count(a) for a in ['D']])/N\n",
        "    faro = sum([seq.count(a) for a in ['W','Y','F']])/N\n",
        "    mean_lambda = np.mean(r.loc[seq].lambdas)\n",
        "\n",
        "    pairs = np.array(list(itertools.combinations(seq,2)))\n",
        "    pairs_indices = np.array(list(itertools.combinations(range(N),2)))\n",
        "    # calculate sequence separations\n",
        "    ij_dist = np.diff(pairs_indices,axis=1).flatten().astype(float)\n",
        "    # calculate lambda sums\n",
        "    ll = r.lambdas.loc[pairs[:,0]].values+r.lambdas.loc[pairs[:,1]].values\n",
        "    # calculate SHD\n",
        "    beta = -1\n",
        "    shd = np.sum(ll*np.power(np.abs(ij_dist),beta))/N\n",
        "    SeqOb = SequenceParameters(''.join(seq))\n",
        "    omega = SeqOb.get_kappa_X(grp1=['F','Y','W'])\n",
        "\n",
        "    # fix charges\n",
        "    if Nc == 1:\n",
        "        r.loc['X'] = r.loc[seq[0]]\n",
        "        r.loc['X','q'] = r.loc[seq[0],'q'] + 1.\n",
        "        seq[0] = 'X'\n",
        "        if r.loc['X','q'] > 0:\n",
        "            fasta_kappa[0] = 'K'\n",
        "        else:\n",
        "            fasta_kappa[0] = 'A'\n",
        "    if Cc == 1:\n",
        "        r.loc['Z'] = r.loc[seq[-1]]\n",
        "        r.loc['Z','q'] = r.loc[seq[-1],'q'] - 1.\n",
        "        seq[-1] = 'Z'\n",
        "        if r.loc['Z','q'] < 0:\n",
        "            fasta_kappa[-1] = 'D'\n",
        "        else:\n",
        "            fasta_kappa[-1] = 'A'\n",
        "    if Hc < 0.5:\n",
        "        r.loc['H', 'q'] = 0\n",
        "        fasta_kappa[np.where(np.array(seq) == 'H')[0]] = 'A'\n",
        "    elif Hc >= 0.5:\n",
        "        r.loc['H', 'q'] = 1\n",
        "        fasta_kappa[np.where(np.array(seq) == 'H')[0]] = 'K'\n",
        "\n",
        "    # calculate properties that depend on charges\n",
        "    pairs = np.array(list(itertools.combinations(seq,2)))\n",
        "    # calculate charge products\n",
        "    qq = r.q.loc[pairs[:,0]].values*r.q.loc[pairs[:,1]].values\n",
        "    # calculate SCD\n",
        "    scd = np.sum(qq*np.sqrt(ij_dist))/N\n",
        "    SeqOb = SequenceParameters(''.join(fasta_kappa))\n",
        "    kappa = SeqOb.get_kappa()\n",
        "    fcr = r.q.loc[seq].abs().mean()\n",
        "    ncpr = r.q.loc[seq].mean()\n",
        "\n",
        "    return np.around([fK, fR, fE, fD, faro, mean_lambda, shd, omega, scd, kappa, fcr, ncpr],3)\n",
        "\n",
        "aa = ['A','C','D','E','F','G','H','I','K','L','M','N','P','Q','R','S','T','V','W','Y']\n",
        "\n",
        "if os.path.exists('svr_model.joblib') == False:\n",
        "    wget.download('https://github.com/KULL-Centre/_2023_Tesei_IDRome/blob/main/svr_model/svr_model.joblib?raw=true')\n",
        "if os.path.exists('residues.csv') == False:\n",
        "    wget.download('https://raw.githubusercontent.com/KULL-Centre/CALVADOS/main/residues.csv')\n",
        "model = load('svr_model.joblib')\n",
        "residues = pd.read_csv('residues.csv',index_col='one')\n",
        "\n",
        "fasta_dict = {}\n",
        "df = pd.DataFrame(columns=['nu_SVR','fK','fR','fE','fD','fARO','Mean_lambda','SHD','Omega_ARO','SCD','kappa','FCR','NCPR'])"
      ]
    },
    {
      "cell_type": "code",
      "source": [
        "#@title <b>Upload sequence(s)</b>\n",
        "#@markdown Upload fasta file. File with multiple sequences and multiple files upload is supported.\n",
        "current_upload = []\n",
        "fasta_file = files.upload()\n",
        "for fn in fasta_file.keys():\n",
        "    fasta = open(fn).readlines()\n",
        "    try:\n",
        "        fasta.remove(\"\")\n",
        "    except:\n",
        "        pass\n",
        "    for l in fasta:\n",
        "        if l.startswith('>'):\n",
        "            name = l[1:].strip()\n",
        "            fasta_dict[name] = ''\n",
        "            current_upload.append(name)\n",
        "        else:\n",
        "            fasta_dict[name] += l.strip()\n",
        "\n",
        "#check sequence\n",
        "for x in current_upload:\n",
        "    for a in fasta_dict[x]:\n",
        "        if a not in aa:\n",
        "            print('WARNING: {} sequence contains a character ({}) not recognized as an aminoacid. This sequence will be ignored.'.format(x,a))\n",
        "            del fasta_dict[x]\n",
        "            break"
      ],
      "metadata": {
        "id": "1citqFEJiW-g",
        "cellView": "form"
      },
      "execution_count": null,
      "outputs": []
    },
    {
      "cell_type": "code",
      "source": [
        "#@title <b>Input sequence(s)</b>\n",
        "#@markdown Or paste a sequence and provide a name. This cell can be executed multiple times to register more sequences.\n",
        "NAME = \"\" #@param {type:\"string\"}\n",
        "SEQUENCE = \"\" #@param {type:\"string\"}\n",
        "\n",
        "if NAME != \"\" and SEQUENCE != \"\":\n",
        "    if \" \" in SEQUENCE:\n",
        "        SEQUENCE = ''.join(SEQUENCE.split())\n",
        "    fasta_dict[NAME] = SEQUENCE\n",
        "\n",
        "#check sequence\n",
        "for a in fasta_dict[NAME]:\n",
        "    if a not in aa:\n",
        "        print('WARNING: {} sequence contains a character not recognized as an aminoacid. This sequence will be ignored'.format(name))\n",
        "        del fasta_dict[NAME]\n",
        "\n",
        "else:\n",
        "    print('No NAME and/or SEQUENCE provided. Upload fasta files with the cell above or paste a sequence at the time here.')"
      ],
      "metadata": {
        "id": "-I_Hwtk5jm4s",
        "cellView": "form"
      },
      "execution_count": null,
      "outputs": []
    },
    {
      "cell_type": "code",
      "source": [
        "#@title <b>Predict $\\nu$\n",
        "#@markdown Use this cell to calculate sequence features and predict the scaling exponent $\\nu$. Results will be download in a csv file.\n",
        "\n",
        "for k in fasta_dict.keys():\n",
        "    res = calc_seq_prop(fasta_dict[k],residues,1,1,0)\n",
        "    features = np.array([res[8],res[6],res[9],res[10],res[5]])\n",
        "    nu = np.around(model.predict(features.reshape(1, -1)),3)\n",
        "    df.loc[k] = np.concatenate((nu,res))\n",
        "\n",
        "df.to_csv('nupred.csv')\n",
        "files.download('nupred.csv')\n",
        "\n",
        "df"
      ],
      "metadata": {
        "cellView": "form",
        "id": "jcvD3RXjoKj-"
      },
      "execution_count": null,
      "outputs": []
    }
  ]
}